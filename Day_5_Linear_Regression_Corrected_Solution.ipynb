{
 "cells": [
  {
   "cell_type": "markdown",
   "id": "1a4a23c0",
   "metadata": {},
   "source": [
    "# Day 5: Linear Regression for Passenger Satisfaction"
   ]
  },
  {
   "cell_type": "markdown",
   "id": "77f1c5ea",
   "metadata": {},
   "source": [
    "## Problem Description"
   ]
  },
  {
   "cell_type": "markdown",
   "id": "9f9a1f46",
   "metadata": {},
   "source": [
    "Build a linear regression model to predict overall satisfaction scores based on input features using the Airline Passenger Satisfaction dataset."
   ]
  },
  {
   "cell_type": "markdown",
   "source": [],
   "metadata": {
    "collapsed": false
   }
  },
  {
   "cell_type": "markdown",
   "source": [
    "Dataset source: https://www.kaggle.com/code/ahmedabbas757/airline-passenger-satisfaction-eda/input"
   ],
   "metadata": {
    "collapsed": false
   }
  },
  {
   "cell_type": "code",
   "execution_count": null,
   "id": "2a7406c5-c39a-4e1e-b6a5-343a89f7b12f",
   "metadata": {},
   "outputs": [],
   "source": [
    "import sys\n",
    "import subprocess\n",
    "\n",
    "for module in [\"pandas\", \"seaborn\", \"matplotlib\", \"sklearn\"]:\n",
    "    try:\n",
    "        __import__(module)\n",
    "    except ImportError:\n",
    "        subprocess.check_call([sys.executable, \"-m\", \"pip\", \"install\", module])"
   ]
  },
  {
   "cell_type": "code",
   "execution_count": 1,
   "outputs": [
    {
     "data": {
      "text/plain": [
       "Index(['ID', 'Gender', 'Age', 'Customer Type', 'Type of Travel', 'Class',\n",
       "       'Flight Distance', 'Departure Delay', 'Arrival Delay',\n",
       "       'Departure and Arrival Time Convenience', 'Ease of Online Booking',\n",
       "       'Check-in Service', 'Online Boarding', 'Gate Location',\n",
       "       'On-board Service', 'Seat Comfort', 'Leg Room Service', 'Cleanliness',\n",
       "       'Food and Drink', 'In-flight Service', 'In-flight Wifi Service',\n",
       "       'In-flight Entertainment', 'Baggage Handling', 'Satisfaction'],\n",
       "      dtype='object')"
      ]
     },
     "execution_count": 1,
     "metadata": {},
     "output_type": "execute_result"
    }
   ],
   "source": [
    "\n",
    "# Import necessary libraries\n",
    "import pandas as pd\n",
    "import seaborn as sns\n",
    "from sklearn.linear_model import LinearRegression\n",
    "from sklearn.model_selection import train_test_split\n",
    "from sklearn.metrics import mean_squared_error\n",
    "import matplotlib.pyplot as plt\n",
    "\n",
    "# Load Passenger Satisfaction dataset from Kaggle\n",
    "url = 'mathematical_datasets/airline_passenger_satisfaction.csv'\n",
    "data = pd.read_csv(url)\n",
    "\n",
    "data.columns"
   ],
   "metadata": {
    "collapsed": false
   }
  },
  {
   "cell_type": "code",
   "execution_count": null,
   "id": "dc8996aa-07ce-4921-99bc-62d0f47b1d7d",
   "metadata": {},
   "outputs": [],
   "source": [
    "# Prepare features and target\n",
    "X = data[['FlightDistance', 'InflightService']]\n",
    "y = data['Satisfaction']\n",
    "\n",
    "# Train-test split\n",
    "X_train, X_test, y_train, y_test = train_test_split(X, y, test_size=0.2, random_state=42)\n",
    "\n",
    "# Fit linear regression model\n",
    "model = LinearRegression()\n",
    "model.fit(X_train, y_train)\n",
    "\n",
    "# Predict and evaluate\n",
    "y_pred = model.predict(X_test)\n",
    "mse = mean_squared_error(y_test, y_pred)\n",
    "\n",
    "print(\"Mean Squared Error:\", mse)\n",
    "\n",
    "# Visualize results\n",
    "sns.regplot(x=data['FlightDistance'], y=data['Satisfaction'])\n",
    "plt.title('Regression: Satisfaction vs Flight Distance')\n",
    "plt.show()\n",
    "            "
   ]
  }
 ],
 "metadata": {
  "kernelspec": {
   "display_name": "Python 3 (ipykernel)",
   "language": "python",
   "name": "python3"
  },
  "language_info": {
   "codemirror_mode": {
    "name": "ipython",
    "version": 3
   },
   "file_extension": ".py",
   "mimetype": "text/x-python",
   "name": "python",
   "nbconvert_exporter": "python",
   "pygments_lexer": "ipython3",
   "version": "3.10.7"
  }
 },
 "nbformat": 4,
 "nbformat_minor": 5
}
